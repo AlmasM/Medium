{
 "cells": [
  {
   "cell_type": "markdown",
   "metadata": {},
   "source": [
    "# Five Tips and Tricks to use with Jupyter Notebook to be productive and to stay organized"
   ]
  },
  {
   "cell_type": "markdown",
   "metadata": {},
   "source": [
    "# Introduction"
   ]
  },
  {
   "cell_type": "markdown",
   "metadata": {},
   "source": [
    "Jupyter Notebook is an indispensable tool for any Data Scientist. It is an interactive tool used for quick prototyping and iterative development. In particular, the tool can be very handy for new learners who want to see intermediary results while parsing data, running an algorithm or visualizing. One of the main advantages and popularity of the Notebook can be attributed to the ease of algorithm or code modification without rerunning entire program  all the time.  \n",
    "\n",
    "For this notebook to work you will need to install `Jupyter Notebook` and optionally `jupyter-nbextension` extension.\n",
    "\n",
    "In the following notebook, we will cover the following material:\n",
    "\n",
    "Table of Content\n",
    "\n",
    "1. [Installation Guide link](#Installation)\n",
    "2. [Signature and Docstrings](#Signature-and-Docstrings)\n",
    "3. [Debugging](#Debugging-in-Jupyter-Notebook)\n",
    "4. [Time the Execution](#Timing-the-Code)\n",
    "5. [Keyboard Shortcuts](#Keyboard-Shortcuts)\n",
    "6. [More enhancements using `jupyter-nbextension` extension](#More-enhancements-using-jupyter-nbextension-extension)"
   ]
  },
  {
   "cell_type": "markdown",
   "metadata": {},
   "source": [
    "# Installation"
   ]
  },
  {
   "cell_type": "markdown",
   "metadata": {},
   "source": [
    "## Jupyter notebook installation"
   ]
  },
  {
   "cell_type": "markdown",
   "metadata": {},
   "source": [
    "There are several ways to install Jupyter Notebook and as a popular tool, it is supported on both Windows, Linux and other major OS platforms. More info on how to install it can be found in the official Jupyter Notebook [documentation](https://jupyter.org/install) \n",
    "\n",
    "The official documentation recommends installing Jupyter Notebook using the [**conda**](https://docs.conda.io/projects/conda/en/latest/user-guide/install/) package manager.\n",
    "\n",
    "If you use **python package**, you can run in the terminal:\n",
    "`pip install jupyterlab`\n",
    "\n",
    "If you have **conda** installed, you can run in the terminal:\n",
    "`conda install -c conda-forge jupyterlab`\n",
    "\n",
    "To run you can execute in terminal: `jupyter-lab`"
   ]
  },
  {
   "cell_type": "markdown",
   "metadata": {},
   "source": [
    "### Anaconda\n",
    "\n",
    "Personally, I like [Anaconda](https://www.anaconda.com/products/individual/download-success), which is *data science platform*. Once installed, it comes with many libraries such as `numpy`, `scikit-learn`, `pandas` (and more) pre-installed. Think of it as one-stop-shop with all the tools necessary for data science work"
   ]
  },
  {
   "cell_type": "markdown",
   "metadata": {},
   "source": [
    "## Optional: `Jupyter-nbextension` extension"
   ]
  },
  {
   "cell_type": "markdown",
   "metadata": {},
   "source": [
    "In this tutorial, we will be also using `jupyter-nbextension` library. I would recommend installing it, because it will give you more advanced enhancements \n",
    "\n",
    "Using `pip`, you can run in terminal:\n",
    "`pip install jupyter_nbextensions_configurator`\n",
    "\n",
    "Using `conda`, you can run in terminal: `conda install -c conda-forge jupyter_nbextensions_configurator`\n",
    "\n",
    "Once installed, the `Nbextension` tab should appear on the main notebook page, along with tabs: Files, Running, Clusters"
   ]
  },
  {
   "cell_type": "markdown",
   "metadata": {},
   "source": [
    "# Signature and Docstrings"
   ]
  },
  {
   "cell_type": "markdown",
   "metadata": {},
   "source": [
    "It is a good practice to document your code and place comments along with explanation of your code. Often times we have to read someones code or even revisit our own from time to time; after prolonged time away from your code or reading someone code can be a bit daunting. As a result, **make sure to learn about signatures and docstrings** to ease future work for yourself and others. "
   ]
  },
  {
   "cell_type": "markdown",
   "metadata": {
    "cell_style": "split"
   },
   "source": [
    "Run the following code:"
   ]
  },
  {
   "cell_type": "code",
   "execution_count": 3,
   "metadata": {
    "ExecuteTime": {
     "end_time": "2020-11-29T21:07:21.062059Z",
     "start_time": "2020-11-29T21:07:21.058212Z"
    },
    "cell_style": "center"
   },
   "outputs": [],
   "source": [
    "# This is demo function\n",
    "def docstring_function(run_code=5):\n",
    "    \"\"\"This function runs a loop and prints output\"\"\"\n",
    "    for index in range(run_code):\n",
    "        print(\"Running code: {}\".format(index))"
   ]
  },
  {
   "cell_type": "markdown",
   "metadata": {},
   "source": [
    "Now add `?` at the end of the function name to view its docstring (or run the command below)"
   ]
  },
  {
   "cell_type": "code",
   "execution_count": 4,
   "metadata": {
    "ExecuteTime": {
     "end_time": "2020-11-29T21:07:25.733684Z",
     "start_time": "2020-11-29T21:07:25.676961Z"
    }
   },
   "outputs": [],
   "source": [
    "docstring_function?"
   ]
  },
  {
   "cell_type": "markdown",
   "metadata": {},
   "source": [
    "At the bottom of the screen, you should see window pop-up showing the function signature, file, and type"
   ]
  },
  {
   "cell_type": "markdown",
   "metadata": {},
   "source": [
    "If you add `??` after the class/function name, you can see the source code of the class/function"
   ]
  },
  {
   "cell_type": "code",
   "execution_count": null,
   "metadata": {},
   "outputs": [],
   "source": [
    "docstring_function??"
   ]
  },
  {
   "cell_type": "markdown",
   "metadata": {},
   "source": [
    "It also works with any installed function. For instance, run the code below"
   ]
  },
  {
   "cell_type": "code",
   "execution_count": null,
   "metadata": {},
   "outputs": [],
   "source": [
    "import random\n",
    "random.random??"
   ]
  },
  {
   "cell_type": "markdown",
   "metadata": {},
   "source": [
    "# Debugging in Jupyter Notebook"
   ]
  },
  {
   "cell_type": "markdown",
   "metadata": {},
   "source": [
    "Although, Jupyter notebook gives granularity to break down the code and run compotents separately, sometimes debugging comes in handy especially while coding an algorithm or looking for edge cases. Following is one way on how one can debug within Jupyter Notebook:\n",
    "\n",
    "* `%debug` - to debug a single line of code; **OR**\n",
    "* `%%debug` - to debug the whole cell\n",
    "\n",
    "Run the following code below, and you will see `ipdb>` line along with text space to give debugging commands (i.e. continue, etc)"
   ]
  },
  {
   "cell_type": "code",
   "execution_count": null,
   "metadata": {},
   "outputs": [],
   "source": [
    "%%debug\n",
    "# This is demo function for debugging\n",
    "def debugging_function(run_code=5):\n",
    "    \"\"\"This function runs a loop and prints output\"\"\"\n",
    "    for index in range(run_code):\n",
    "        print(\"Running code: {}\".format(index))"
   ]
  },
  {
   "cell_type": "markdown",
   "metadata": {},
   "source": [
    "**Note:** This is just one way to debug in the notebook. More information on how to debug, can be found [here](https://www.blog.pythonlibrary.org/2018/10/17/jupyter-notebook-debugging/)"
   ]
  },
  {
   "cell_type": "markdown",
   "metadata": {},
   "source": [
    "# Timing the Code"
   ]
  },
  {
   "cell_type": "markdown",
   "metadata": {},
   "source": [
    "## Time it manually"
   ]
  },
  {
   "cell_type": "markdown",
   "metadata": {},
   "source": [
    "Sometime it is useful to measure the execution time of the cell or the statement. This can be especially useful if you have several notebooks running in parallel and would like to see which cell has been executed. There are several ways to time your code. \n",
    "\n",
    "* `%time` - to time a single line of code; **OR**\n",
    "* `%%time` - to time the whole cell\n",
    "\n",
    "Let's use an example to demonstrate it:"
   ]
  },
  {
   "cell_type": "code",
   "execution_count": 5,
   "metadata": {
    "ExecuteTime": {
     "end_time": "2020-11-29T21:09:30.480366Z",
     "start_time": "2020-11-29T21:09:30.474559Z"
    }
   },
   "outputs": [
    {
     "name": "stdout",
     "output_type": "stream",
     "text": [
      "CPU times: user 3 µs, sys: 1 µs, total: 4 µs\n",
      "Wall time: 6.91 µs\n"
     ]
    }
   ],
   "source": [
    "%%time\n",
    "# This is demo function for timing\n",
    "def timing_function(run_code=5):\n",
    "    \"\"\"This function runs a loop and prints output\"\"\"\n",
    "    for index in range(run_code):\n",
    "        print(\"Running code: {}\".format(index))"
   ]
  },
  {
   "cell_type": "markdown",
   "metadata": {},
   "source": [
    "Alternatively, you can time only one statement:"
   ]
  },
  {
   "cell_type": "code",
   "execution_count": 6,
   "metadata": {
    "ExecuteTime": {
     "end_time": "2020-11-29T21:09:34.886918Z",
     "start_time": "2020-11-29T21:09:34.875509Z"
    },
    "scrolled": true
   },
   "outputs": [
    {
     "name": "stdout",
     "output_type": "stream",
     "text": [
      "Running code: 0\n",
      "Running code: 1\n",
      "Running code: 2\n",
      "Running code: 3\n",
      "Running code: 4\n",
      "CPU times: user 307 µs, sys: 82 µs, total: 389 µs\n",
      "Wall time: 402 µs\n"
     ]
    }
   ],
   "source": [
    "run_code = 5\n",
    "%time mult_print = [print(\"Running code: {}\".format(index)) for index in range(run_code)] "
   ]
  },
  {
   "cell_type": "markdown",
   "metadata": {},
   "source": [
    "## Using `jupyter-nbextension`"
   ]
  },
  {
   "cell_type": "markdown",
   "metadata": {},
   "source": [
    "The library `jyputer-nbextensions` has an extension that prints out execution time along with time stamp of execution. You can find more information about the extension in the library [documentation](https://jupyter-contrib-nbextensions.readthedocs.io/en/latest/nbextensions/execute_time/readme.html)"
   ]
  },
  {
   "cell_type": "markdown",
   "metadata": {},
   "source": [
    "# Keyboard Shortcuts"
   ]
  },
  {
   "cell_type": "markdown",
   "metadata": {},
   "source": [
    "Reaching to top-left corner to run the cell or create new cell can be very annoying. Instead, there are handful of hotkeys you can use to become proficient in Jupyter Notebook. The main ones are:\n",
    "\n",
    "* **Shift + Enter** - Run cell + select next cell\n",
    "* **a** - Insert cell above\n",
    "* **b** - Insert cell below\n",
    "* **m** - Convert the cell to markdown (after your run the markdown cell, you can double click it to edit)\n",
    "* **y** - Convert the cell back to code\n",
    "* **x** - Cut the selected cell(s)\n",
    "* **c** - Copy the selected cell(s)\n",
    "* **v** - Paste the selected cell(s)\n",
    "\n",
    "**Note:** you can change those shortcuts by navigating to top-left corner in Help->Keyboard Shortcuts"
   ]
  },
  {
   "cell_type": "markdown",
   "metadata": {},
   "source": [
    "# More enhancements using `jupyter-nbextension` extension"
   ]
  },
  {
   "cell_type": "markdown",
   "metadata": {},
   "source": [
    "## Table of Content"
   ]
  },
  {
   "cell_type": "markdown",
   "metadata": {},
   "source": [
    "One of the main features of the extension is the table of the content that helps to organize the content of the notebook. Often time, as you start to experiment, you will beginning to create functions and various auxiliary helper functions that will become hard to navigate. As such, having headers for each section will help you to stay on top and left-hand-side thumbnails with table of content will be great guide."
   ]
  },
  {
   "cell_type": "markdown",
   "metadata": {},
   "source": [
    "## Auto-fill "
   ]
  },
  {
   "cell_type": "markdown",
   "metadata": {},
   "source": [
    "The modern day IDEs all have auto-fill function that aid with function names and ease memorization or constant referral to internet for function name. Unfortunately, Jupyter Notebook doesn't have built-in auto-fill function, which makes this extension great addition while working within a notebook"
   ]
  },
  {
   "cell_type": "markdown",
   "metadata": {},
   "source": [
    "## PEP 8"
   ]
  },
  {
   "cell_type": "markdown",
   "metadata": {},
   "source": [
    "Auto PEP8 extension helps with keeping your python code within established practices and community guidelines. It is good practice to keep the code clean and keep it consistent for usability. For many, notebook is a playground where they can quickly prototype, but it doesn't mean that one should keep the code unclean and don't follow consistent formatting for usability purposes. For more info about PEP8, you can follow this [link](https://www.python.org/dev/peps/pep-0008/#introduction)."
   ]
  },
  {
   "cell_type": "markdown",
   "metadata": {},
   "source": [
    "## Desktop Notifications"
   ]
  },
  {
   "cell_type": "markdown",
   "metadata": {},
   "source": [
    "This comes in handy if you have several notebooks running in parallel. This feature would send you notifications on your desktop app through your browser. If you are using Mac, this would mean that in the top-right corner, Chrome (for instance) would send you a reminder on behalf of Jupyter Notebook. "
   ]
  },
  {
   "cell_type": "markdown",
   "metadata": {},
   "source": [
    "## And many more"
   ]
  },
  {
   "cell_type": "markdown",
   "metadata": {},
   "source": [
    "There are many more extensions you could explore and use while working with Jupyter Notebook. The important point is that there has been a starting point that helps with you work "
   ]
  }
 ],
 "metadata": {
  "kernelspec": {
   "display_name": "Python 3",
   "language": "python",
   "name": "python3"
  },
  "language_info": {
   "codemirror_mode": {
    "name": "ipython",
    "version": 3
   },
   "file_extension": ".py",
   "mimetype": "text/x-python",
   "name": "python",
   "nbconvert_exporter": "python",
   "pygments_lexer": "ipython3",
   "version": "3.7.7"
  },
  "toc": {
   "base_numbering": 1,
   "nav_menu": {},
   "number_sections": true,
   "sideBar": true,
   "skip_h1_title": false,
   "title_cell": "Table of Contents",
   "title_sidebar": "Contents",
   "toc_cell": false,
   "toc_position": {},
   "toc_section_display": true,
   "toc_window_display": true
  }
 },
 "nbformat": 4,
 "nbformat_minor": 4
}
